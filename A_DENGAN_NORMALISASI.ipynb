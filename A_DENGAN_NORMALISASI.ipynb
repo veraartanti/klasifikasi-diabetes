{
  "cells": [
    {
      "cell_type": "code",
      "execution_count": 31,
      "metadata": {},
      "outputs": [
        {
          "name": "stdout",
          "output_type": "stream",
          "text": [
            "Requirement already satisfied: imbalanced-learn in c:\\users\\nurussakinah\\appdata\\local\\programs\\python\\python311\\lib\\site-packages (0.12.3)Note: you may need to restart the kernel to use updated packages.\n",
            "\n",
            "Requirement already satisfied: numpy>=1.17.3 in c:\\users\\nurussakinah\\appdata\\local\\programs\\python\\python311\\lib\\site-packages (from imbalanced-learn) (1.24.2)\n",
            "Requirement already satisfied: scipy>=1.5.0 in c:\\users\\nurussakinah\\appdata\\local\\programs\\python\\python311\\lib\\site-packages (from imbalanced-learn) (1.10.1)\n",
            "Requirement already satisfied: scikit-learn>=1.0.2 in c:\\users\\nurussakinah\\appdata\\local\\programs\\python\\python311\\lib\\site-packages (from imbalanced-learn) (1.5.0)\n",
            "Requirement already satisfied: joblib>=1.1.1 in c:\\users\\nurussakinah\\appdata\\local\\programs\\python\\python311\\lib\\site-packages (from imbalanced-learn) (1.2.0)\n",
            "Requirement already satisfied: threadpoolctl>=2.0.0 in c:\\users\\nurussakinah\\appdata\\local\\programs\\python\\python311\\lib\\site-packages (from imbalanced-learn) (3.3.0)\n"
          ]
        }
      ],
      "source": [
        "pip install imbalanced-learn"
      ]
    },
    {
      "cell_type": "code",
      "execution_count": 32,
      "metadata": {},
      "outputs": [
        {
          "name": "stdout",
          "output_type": "stream",
          "text": [
            "Requirement already satisfied: scikit-learn in c:\\users\\nurussakinah\\appdata\\local\\programs\\python\\python311\\lib\\site-packages (1.5.0)\n",
            "Requirement already satisfied: numpy>=1.19.5 in c:\\users\\nurussakinah\\appdata\\local\\programs\\python\\python311\\lib\\site-packages (from scikit-learn) (1.24.2)\n",
            "Requirement already satisfied: scipy>=1.6.0 in c:\\users\\nurussakinah\\appdata\\local\\programs\\python\\python311\\lib\\site-packages (from scikit-learn) (1.10.1)\n",
            "Requirement already satisfied: joblib>=1.2.0 in c:\\users\\nurussakinah\\appdata\\local\\programs\\python\\python311\\lib\\site-packages (from scikit-learn) (1.2.0)\n",
            "Requirement already satisfied: threadpoolctl>=3.1.0 in c:\\users\\nurussakinah\\appdata\\local\\programs\\python\\python311\\lib\\site-packages (from scikit-learn) (3.3.0)\n",
            "Note: you may need to restart the kernel to use updated packages.\n"
          ]
        }
      ],
      "source": [
        "pip install scikit-learn"
      ]
    },
    {
      "cell_type": "code",
      "execution_count": 33,
      "metadata": {
        "id": "v28W7vNg-uvl"
      },
      "outputs": [],
      "source": [
        "import numpy as np\n",
        "import pandas as pd\n",
        "import matplotlib.pyplot as plt\n",
        "import seaborn as sns\n",
        "\n",
        "from imblearn.over_sampling import SMOTE # deal with imbalance data\n",
        "from sklearn.preprocessing import OrdinalEncoder\n",
        "from sklearn.metrics import accuracy_score,classification_report,confusion_matrix\n",
        "from sklearn.ensemble import RandomForestClassifier\n",
        "from sklearn.model_selection import train_test_split"
      ]
    },
    {
      "cell_type": "code",
      "execution_count": 34,
      "metadata": {
        "colab": {
          "base_uri": "https://localhost:8080/",
          "height": 704
        },
        "id": "ut9a9ZpU_QXZ",
        "outputId": "b5291f57-0941-4b13-839b-86ff89908f2c"
      },
      "outputs": [
        {
          "data": {
            "text/html": [
              "<div>\n",
              "<style scoped>\n",
              "    .dataframe tbody tr th:only-of-type {\n",
              "        vertical-align: middle;\n",
              "    }\n",
              "\n",
              "    .dataframe tbody tr th {\n",
              "        vertical-align: top;\n",
              "    }\n",
              "\n",
              "    .dataframe thead th {\n",
              "        text-align: right;\n",
              "    }\n",
              "</style>\n",
              "<table border=\"1\" class=\"dataframe\">\n",
              "  <thead>\n",
              "    <tr style=\"text-align: right;\">\n",
              "      <th></th>\n",
              "      <th>Age</th>\n",
              "      <th>Gender</th>\n",
              "      <th>Family_Diabetes</th>\n",
              "      <th>highBP</th>\n",
              "      <th>PhysicallyActive</th>\n",
              "      <th>BMI</th>\n",
              "      <th>Smoking</th>\n",
              "      <th>Alcohol</th>\n",
              "      <th>Sleep</th>\n",
              "      <th>SoundSleep</th>\n",
              "      <th>RegularMedicine</th>\n",
              "      <th>JunkFood</th>\n",
              "      <th>Stress</th>\n",
              "      <th>BPLevel</th>\n",
              "      <th>Pregancies</th>\n",
              "      <th>Pdiabetes</th>\n",
              "      <th>UriationFreq</th>\n",
              "      <th>Diabetic</th>\n",
              "    </tr>\n",
              "  </thead>\n",
              "  <tbody>\n",
              "    <tr>\n",
              "      <th>0</th>\n",
              "      <td>50-59</td>\n",
              "      <td>Male</td>\n",
              "      <td>no</td>\n",
              "      <td>yes</td>\n",
              "      <td>one hr or more</td>\n",
              "      <td>39.0</td>\n",
              "      <td>no</td>\n",
              "      <td>no</td>\n",
              "      <td>8</td>\n",
              "      <td>6</td>\n",
              "      <td>no</td>\n",
              "      <td>occasionally</td>\n",
              "      <td>sometimes</td>\n",
              "      <td>high</td>\n",
              "      <td>0.0</td>\n",
              "      <td>0</td>\n",
              "      <td>not much</td>\n",
              "      <td>no</td>\n",
              "    </tr>\n",
              "    <tr>\n",
              "      <th>1</th>\n",
              "      <td>50-59</td>\n",
              "      <td>Male</td>\n",
              "      <td>no</td>\n",
              "      <td>yes</td>\n",
              "      <td>less than half an hr</td>\n",
              "      <td>28.0</td>\n",
              "      <td>no</td>\n",
              "      <td>no</td>\n",
              "      <td>8</td>\n",
              "      <td>6</td>\n",
              "      <td>yes</td>\n",
              "      <td>very often</td>\n",
              "      <td>sometimes</td>\n",
              "      <td>normal</td>\n",
              "      <td>0.0</td>\n",
              "      <td>0</td>\n",
              "      <td>not much</td>\n",
              "      <td>no</td>\n",
              "    </tr>\n",
              "    <tr>\n",
              "      <th>2</th>\n",
              "      <td>40-49</td>\n",
              "      <td>Male</td>\n",
              "      <td>no</td>\n",
              "      <td>no</td>\n",
              "      <td>one hr or more</td>\n",
              "      <td>24.0</td>\n",
              "      <td>no</td>\n",
              "      <td>no</td>\n",
              "      <td>6</td>\n",
              "      <td>6</td>\n",
              "      <td>no</td>\n",
              "      <td>occasionally</td>\n",
              "      <td>sometimes</td>\n",
              "      <td>normal</td>\n",
              "      <td>0.0</td>\n",
              "      <td>0</td>\n",
              "      <td>not much</td>\n",
              "      <td>no</td>\n",
              "    </tr>\n",
              "    <tr>\n",
              "      <th>3</th>\n",
              "      <td>50-59</td>\n",
              "      <td>Male</td>\n",
              "      <td>no</td>\n",
              "      <td>no</td>\n",
              "      <td>one hr or more</td>\n",
              "      <td>23.0</td>\n",
              "      <td>no</td>\n",
              "      <td>no</td>\n",
              "      <td>8</td>\n",
              "      <td>6</td>\n",
              "      <td>no</td>\n",
              "      <td>occasionally</td>\n",
              "      <td>sometimes</td>\n",
              "      <td>normal</td>\n",
              "      <td>0.0</td>\n",
              "      <td>0</td>\n",
              "      <td>not much</td>\n",
              "      <td>no</td>\n",
              "    </tr>\n",
              "    <tr>\n",
              "      <th>4</th>\n",
              "      <td>40-49</td>\n",
              "      <td>Male</td>\n",
              "      <td>no</td>\n",
              "      <td>no</td>\n",
              "      <td>less than half an hr</td>\n",
              "      <td>27.0</td>\n",
              "      <td>no</td>\n",
              "      <td>no</td>\n",
              "      <td>8</td>\n",
              "      <td>8</td>\n",
              "      <td>no</td>\n",
              "      <td>occasionally</td>\n",
              "      <td>sometimes</td>\n",
              "      <td>normal</td>\n",
              "      <td>0.0</td>\n",
              "      <td>0</td>\n",
              "      <td>not much</td>\n",
              "      <td>no</td>\n",
              "    </tr>\n",
              "    <tr>\n",
              "      <th>...</th>\n",
              "      <td>...</td>\n",
              "      <td>...</td>\n",
              "      <td>...</td>\n",
              "      <td>...</td>\n",
              "      <td>...</td>\n",
              "      <td>...</td>\n",
              "      <td>...</td>\n",
              "      <td>...</td>\n",
              "      <td>...</td>\n",
              "      <td>...</td>\n",
              "      <td>...</td>\n",
              "      <td>...</td>\n",
              "      <td>...</td>\n",
              "      <td>...</td>\n",
              "      <td>...</td>\n",
              "      <td>...</td>\n",
              "      <td>...</td>\n",
              "      <td>...</td>\n",
              "    </tr>\n",
              "    <tr>\n",
              "      <th>947</th>\n",
              "      <td>less than 40</td>\n",
              "      <td>Male</td>\n",
              "      <td>yes</td>\n",
              "      <td>no</td>\n",
              "      <td>more than half an hr</td>\n",
              "      <td>25.0</td>\n",
              "      <td>no</td>\n",
              "      <td>no</td>\n",
              "      <td>8</td>\n",
              "      <td>6</td>\n",
              "      <td>no</td>\n",
              "      <td>often</td>\n",
              "      <td>sometimes</td>\n",
              "      <td>normal</td>\n",
              "      <td>0.0</td>\n",
              "      <td>0</td>\n",
              "      <td>not much</td>\n",
              "      <td>yes</td>\n",
              "    </tr>\n",
              "    <tr>\n",
              "      <th>948</th>\n",
              "      <td>60 or older</td>\n",
              "      <td>Male</td>\n",
              "      <td>yes</td>\n",
              "      <td>yes</td>\n",
              "      <td>more than half an hr</td>\n",
              "      <td>27.0</td>\n",
              "      <td>no</td>\n",
              "      <td>no</td>\n",
              "      <td>6</td>\n",
              "      <td>5</td>\n",
              "      <td>yes</td>\n",
              "      <td>occasionally</td>\n",
              "      <td>sometimes</td>\n",
              "      <td>high</td>\n",
              "      <td>0.0</td>\n",
              "      <td>0</td>\n",
              "      <td>quite often</td>\n",
              "      <td>yes</td>\n",
              "    </tr>\n",
              "    <tr>\n",
              "      <th>949</th>\n",
              "      <td>60 or older</td>\n",
              "      <td>Male</td>\n",
              "      <td>no</td>\n",
              "      <td>yes</td>\n",
              "      <td>none</td>\n",
              "      <td>23.0</td>\n",
              "      <td>no</td>\n",
              "      <td>no</td>\n",
              "      <td>6</td>\n",
              "      <td>5</td>\n",
              "      <td>yes</td>\n",
              "      <td>occasionally</td>\n",
              "      <td>sometimes</td>\n",
              "      <td>high</td>\n",
              "      <td>0.0</td>\n",
              "      <td>0</td>\n",
              "      <td>not much</td>\n",
              "      <td>no</td>\n",
              "    </tr>\n",
              "    <tr>\n",
              "      <th>950</th>\n",
              "      <td>60 or older</td>\n",
              "      <td>Male</td>\n",
              "      <td>no</td>\n",
              "      <td>yes</td>\n",
              "      <td>less than half an hr</td>\n",
              "      <td>27.0</td>\n",
              "      <td>no</td>\n",
              "      <td>yes</td>\n",
              "      <td>6</td>\n",
              "      <td>5</td>\n",
              "      <td>yes</td>\n",
              "      <td>occasionally</td>\n",
              "      <td>very often</td>\n",
              "      <td>high</td>\n",
              "      <td>0.0</td>\n",
              "      <td>0</td>\n",
              "      <td>not much</td>\n",
              "      <td>no</td>\n",
              "    </tr>\n",
              "    <tr>\n",
              "      <th>951</th>\n",
              "      <td>60 or older</td>\n",
              "      <td>Female</td>\n",
              "      <td>yes</td>\n",
              "      <td>yes</td>\n",
              "      <td>one hr or more</td>\n",
              "      <td>30.0</td>\n",
              "      <td>no</td>\n",
              "      <td>no</td>\n",
              "      <td>7</td>\n",
              "      <td>4</td>\n",
              "      <td>yes</td>\n",
              "      <td>occasionally</td>\n",
              "      <td>sometimes</td>\n",
              "      <td>high</td>\n",
              "      <td>2.0</td>\n",
              "      <td>0</td>\n",
              "      <td>quite often</td>\n",
              "      <td>yes</td>\n",
              "    </tr>\n",
              "  </tbody>\n",
              "</table>\n",
              "<p>952 rows × 18 columns</p>\n",
              "</div>"
            ],
            "text/plain": [
              "              Age  Gender Family_Diabetes highBP      PhysicallyActive   BMI  \\\n",
              "0           50-59    Male              no    yes        one hr or more  39.0   \n",
              "1           50-59    Male              no    yes  less than half an hr  28.0   \n",
              "2           40-49    Male              no     no        one hr or more  24.0   \n",
              "3           50-59    Male              no     no        one hr or more  23.0   \n",
              "4           40-49    Male              no     no  less than half an hr  27.0   \n",
              "..            ...     ...             ...    ...                   ...   ...   \n",
              "947  less than 40    Male             yes     no  more than half an hr  25.0   \n",
              "948   60 or older    Male             yes    yes  more than half an hr  27.0   \n",
              "949   60 or older    Male              no    yes                  none  23.0   \n",
              "950   60 or older    Male              no    yes  less than half an hr  27.0   \n",
              "951   60 or older  Female             yes    yes        one hr or more  30.0   \n",
              "\n",
              "    Smoking Alcohol  Sleep  SoundSleep RegularMedicine      JunkFood  \\\n",
              "0        no      no      8           6              no  occasionally   \n",
              "1        no      no      8           6             yes    very often   \n",
              "2        no      no      6           6              no  occasionally   \n",
              "3        no      no      8           6              no  occasionally   \n",
              "4        no      no      8           8              no  occasionally   \n",
              "..      ...     ...    ...         ...             ...           ...   \n",
              "947      no      no      8           6              no         often   \n",
              "948      no      no      6           5             yes  occasionally   \n",
              "949      no      no      6           5             yes  occasionally   \n",
              "950      no     yes      6           5             yes  occasionally   \n",
              "951      no      no      7           4             yes  occasionally   \n",
              "\n",
              "         Stress BPLevel  Pregancies Pdiabetes UriationFreq Diabetic  \n",
              "0     sometimes    high         0.0         0     not much       no  \n",
              "1     sometimes  normal         0.0         0     not much       no  \n",
              "2     sometimes  normal         0.0         0     not much       no  \n",
              "3     sometimes  normal         0.0         0     not much       no  \n",
              "4     sometimes  normal         0.0         0     not much       no  \n",
              "..          ...     ...         ...       ...          ...      ...  \n",
              "947   sometimes  normal         0.0         0     not much      yes  \n",
              "948   sometimes    high         0.0         0  quite often      yes  \n",
              "949   sometimes    high         0.0         0     not much       no  \n",
              "950  very often    high         0.0         0     not much       no  \n",
              "951   sometimes    high         2.0         0  quite often      yes  \n",
              "\n",
              "[952 rows x 18 columns]"
            ]
          },
          "execution_count": 34,
          "metadata": {},
          "output_type": "execute_result"
        }
      ],
      "source": [
        "df = pd.read_csv('diabetes_dataset.csv')\n",
        "df"
      ]
    },
    {
      "cell_type": "code",
      "execution_count": 35,
      "metadata": {
        "colab": {
          "base_uri": "https://localhost:8080/"
        },
        "id": "2o5fCc11_cbd",
        "outputId": "4b41be4f-881a-4b3b-ad1a-6307007092a1"
      },
      "outputs": [
        {
          "name": "stdout",
          "output_type": "stream",
          "text": [
            "<class 'pandas.core.frame.DataFrame'>\n",
            "RangeIndex: 952 entries, 0 to 951\n",
            "Data columns (total 18 columns):\n",
            " #   Column            Non-Null Count  Dtype  \n",
            "---  ------            --------------  -----  \n",
            " 0   Age               952 non-null    object \n",
            " 1   Gender            952 non-null    object \n",
            " 2   Family_Diabetes   952 non-null    object \n",
            " 3   highBP            952 non-null    object \n",
            " 4   PhysicallyActive  952 non-null    object \n",
            " 5   BMI               948 non-null    float64\n",
            " 6   Smoking           952 non-null    object \n",
            " 7   Alcohol           952 non-null    object \n",
            " 8   Sleep             952 non-null    int64  \n",
            " 9   SoundSleep        952 non-null    int64  \n",
            " 10  RegularMedicine   952 non-null    object \n",
            " 11  JunkFood          952 non-null    object \n",
            " 12  Stress            952 non-null    object \n",
            " 13  BPLevel           952 non-null    object \n",
            " 14  Pregancies        910 non-null    float64\n",
            " 15  Pdiabetes         951 non-null    object \n",
            " 16  UriationFreq      952 non-null    object \n",
            " 17  Diabetic          951 non-null    object \n",
            "dtypes: float64(2), int64(2), object(14)\n",
            "memory usage: 134.0+ KB\n"
          ]
        }
      ],
      "source": [
        "df.info()"
      ]
    },
    {
      "cell_type": "markdown",
      "metadata": {
        "id": "AF6uD6Dz_jRw"
      },
      "source": [
        "#MISSING VALUE"
      ]
    },
    {
      "cell_type": "code",
      "execution_count": 36,
      "metadata": {
        "colab": {
          "base_uri": "https://localhost:8080/"
        },
        "id": "YaCMWOiK_gFI",
        "outputId": "d5c26706-b7b4-4a8f-e13a-727b97c25592"
      },
      "outputs": [
        {
          "data": {
            "text/plain": [
              "Age                  0\n",
              "Gender               0\n",
              "Family_Diabetes      0\n",
              "highBP               0\n",
              "PhysicallyActive     0\n",
              "BMI                  4\n",
              "Smoking              0\n",
              "Alcohol              0\n",
              "Sleep                0\n",
              "SoundSleep           0\n",
              "RegularMedicine      0\n",
              "JunkFood             0\n",
              "Stress               0\n",
              "BPLevel              0\n",
              "Pregancies          42\n",
              "Pdiabetes            1\n",
              "UriationFreq         0\n",
              "Diabetic             1\n",
              "dtype: int64"
            ]
          },
          "execution_count": 36,
          "metadata": {},
          "output_type": "execute_result"
        }
      ],
      "source": [
        "df.isna().sum()"
      ]
    },
    {
      "cell_type": "code",
      "execution_count": 37,
      "metadata": {
        "colab": {
          "base_uri": "https://localhost:8080/"
        },
        "id": "tFIwOmPQ_ini",
        "outputId": "e633c107-083a-4fd6-c679-f31fdd99bee5"
      },
      "outputs": [
        {
          "data": {
            "text/plain": [
              "Age                 0\n",
              "Gender              0\n",
              "Family_Diabetes     0\n",
              "highBP              0\n",
              "PhysicallyActive    0\n",
              "BMI                 0\n",
              "Smoking             0\n",
              "Alcohol             0\n",
              "Sleep               0\n",
              "SoundSleep          0\n",
              "RegularMedicine     0\n",
              "JunkFood            0\n",
              "Stress              0\n",
              "BPLevel             0\n",
              "Pregancies          0\n",
              "Pdiabetes           0\n",
              "UriationFreq        0\n",
              "Diabetic            0\n",
              "dtype: int64"
            ]
          },
          "execution_count": 37,
          "metadata": {},
          "output_type": "execute_result"
        }
      ],
      "source": [
        "indexes = df[df['Diabetic'].isna() | df['Pdiabetes'].isna() | df['BMI'].isna()].index.to_list()\n",
        "df.drop(index= indexes,inplace = True)\n",
        "df['Pregancies'].fillna(value = 0.0, inplace= True)\n",
        "\n",
        "df.isna().sum()"
      ]
    },
    {
      "cell_type": "markdown",
      "metadata": {
        "id": "MvYhON1NANFJ"
      },
      "source": [
        "#DISTRIBUSI KELAS"
      ]
    },
    {
      "cell_type": "code",
      "execution_count": 38,
      "metadata": {
        "colab": {
          "base_uri": "https://localhost:8080/"
        },
        "id": "kbiOj4xq_9W9",
        "outputId": "93c9def1-8b04-4082-b82e-928e85ddc543"
      },
      "outputs": [
        {
          "name": "stdout",
          "output_type": "stream",
          "text": [
            "no     682\n",
            "yes    265\n",
            "Name: Diabetic, dtype: int64\n"
          ]
        }
      ],
      "source": [
        "print(df['Diabetic'].value_counts())"
      ]
    },
    {
      "cell_type": "code",
      "execution_count": 39,
      "metadata": {
        "colab": {
          "base_uri": "https://localhost:8080/",
          "height": 579
        },
        "id": "aUJOgCMjASL8",
        "outputId": "9ce39b6b-4d10-492c-d295-b440d1ef6107"
      },
      "outputs": [
        {
          "name": "stderr",
          "output_type": "stream",
          "text": [
            "C:\\Users\\Nurussakinah\\AppData\\Local\\Temp\\ipykernel_21076\\2419854377.py:5: FutureWarning: \n",
            "\n",
            "Passing `palette` without assigning `hue` is deprecated and will be removed in v0.14.0. Assign the `x` variable to `hue` and set `legend=False` for the same effect.\n",
            "\n",
            "  sns.countplot(data=df, x='Diabetic', palette=death_color)\n"
          ]
        },
        {
          "data": {
            "image/png": "[encoded data removed]",
            "text/plain": [
              "<Figure size 600x500 with 1 Axes>"
            ]
          },
          "metadata": {},
          "output_type": "display_data"
        }
      ],
      "source": [
        "target_count = df.Diabetic.value_counts()\n",
        "death_color = ['navy', 'crimson']\n",
        "with plt.style.context('ggplot'):\n",
        "    plt.figure(figsize=(6, 5))\n",
        "    sns.countplot(data=df, x='Diabetic', palette=death_color)\n",
        "    for name , val in zip(target_count.index, target_count.values):\n",
        "        plt.text(name, val/2, f'{round(val/sum(target_count)*100, 2)}%\\n({val})', ha='center',\n",
        "                color='white', fontdict={'fontsize':13})\n",
        "    plt.xticks(ticks=target_count.index, labels=['No', 'Yes'])\n",
        "    plt.yticks(np.arange(0, max(target_count.values)+50, 50))\n",
        "    plt.title('Persebaran Kelas Target Diabetes')\n",
        "    plt.xlabel('Diabetic')\n",
        "    plt.ylabel('Jumlah')\n",
        "    plt.savefig('persebaran_kelas_diabetes.png', bbox_inches='tight')\n",
        "\n",
        "    plt.show()"
      ]
    },
    {
      "cell_type": "code",
      "execution_count": 40,
      "metadata": {
        "id": "93rbqMt5AZI5"
      },
      "outputs": [],
      "source": [
        "df_obj = df.select_dtypes(['object'])\n",
        "df[df_obj.columns] = df_obj.apply(lambda x: x.str.strip())"
      ]
    },
    {
      "cell_type": "code",
      "execution_count": 41,
      "metadata": {
        "colab": {
          "base_uri": "https://localhost:8080/"
        },
        "id": "h8NbOV71Ai_5",
        "outputId": "a277a6a7-a49e-41b7-8dfd-2e94fe4c162c"
      },
      "outputs": [
        {
          "name": "stdout",
          "output_type": "stream",
          "text": [
            "Age\n",
            "less than 40    484\n",
            "40-49           164\n",
            "50-59           155\n",
            "60 or older     144\n",
            "Name: Age, dtype: int64\n",
            "======================================\n",
            "Gender\n",
            "Male      578\n",
            "Female    369\n",
            "Name: Gender, dtype: int64\n",
            "======================================\n",
            "Family_Diabetes\n",
            "no     496\n",
            "yes    451\n",
            "Name: Family_Diabetes, dtype: int64\n",
            "======================================\n",
            "highBP\n",
            "no     721\n",
            "yes    226\n",
            "Name: highBP, dtype: int64\n",
            "======================================\n",
            "PhysicallyActive\n",
            "less than half an hr    336\n",
            "more than half an hr    269\n",
            "one hr or more          211\n",
            "none                    131\n",
            "Name: PhysicallyActive, dtype: int64\n",
            "======================================\n",
            "Smoking\n",
            "no     839\n",
            "yes    108\n",
            "Name: Smoking, dtype: int64\n",
            "======================================\n",
            "Alcohol\n",
            "no     755\n",
            "yes    192\n",
            "Name: Alcohol, dtype: int64\n",
            "======================================\n",
            "RegularMedicine\n",
            "no     612\n",
            "yes    335\n",
            "Name: RegularMedicine, dtype: int64\n",
            "======================================\n",
            "JunkFood\n",
            "occasionally    668\n",
            "often           183\n",
            "very often       52\n",
            "always           44\n",
            "Name: JunkFood, dtype: int64\n",
            "======================================\n",
            "Stress\n",
            "sometimes     563\n",
            "very often    163\n",
            "not at all    134\n",
            "always         87\n",
            "Name: Stress, dtype: int64\n",
            "======================================\n",
            "BPLevel\n",
            "normal    704\n",
            "high      210\n",
            "low        25\n",
            "High        5\n",
            "Low         3\n",
            "Name: BPLevel, dtype: int64\n",
            "======================================\n",
            "Pdiabetes\n",
            "0      932\n",
            "yes     14\n",
            "no       1\n",
            "Name: Pdiabetes, dtype: int64\n",
            "======================================\n",
            "UriationFreq\n",
            "not much       660\n",
            "quite often    287\n",
            "Name: UriationFreq, dtype: int64\n",
            "======================================\n",
            "Diabetic\n",
            "no     682\n",
            "yes    265\n",
            "Name: Diabetic, dtype: int64\n",
            "======================================\n"
          ]
        }
      ],
      "source": [
        "for col in df_obj.columns:\n",
        "    print(col)\n",
        "    print(df[col].value_counts())\n",
        "    print('======================================')"
      ]
    },
    {
      "cell_type": "code",
      "execution_count": 42,
      "metadata": {
        "id": "C1QTNLwiAmam"
      },
      "outputs": [],
      "source": [
        "df['Pdiabetes'].replace('0', 'no', inplace = True)\n",
        "df['BPLevel'].replace('low', 'Low', inplace=True)\n",
        "df['BPLevel'].replace('high', 'High', inplace=True)"
      ]
    },
    {
      "cell_type": "code",
      "execution_count": 43,
      "metadata": {
        "colab": {
          "base_uri": "https://localhost:8080/"
        },
        "id": "sGvaigtBt1OJ",
        "outputId": "02afece0-fd8d-4e55-bfff-6d1ffe9acc21"
      },
      "outputs": [
        {
          "name": "stdout",
          "output_type": "stream",
          "text": [
            "<class 'pandas.core.frame.DataFrame'>\n",
            "Int64Index: 947 entries, 0 to 951\n",
            "Data columns (total 18 columns):\n",
            " #   Column            Non-Null Count  Dtype  \n",
            "---  ------            --------------  -----  \n",
            " 0   Age               947 non-null    object \n",
            " 1   Gender            947 non-null    object \n",
            " 2   Family_Diabetes   947 non-null    object \n",
            " 3   highBP            947 non-null    object \n",
            " 4   PhysicallyActive  947 non-null    object \n",
            " 5   BMI               947 non-null    float64\n",
            " 6   Smoking           947 non-null    object \n",
            " 7   Alcohol           947 non-null    object \n",
            " 8   Sleep             947 non-null    int64  \n",
            " 9   SoundSleep        947 non-null    int64  \n",
            " 10  RegularMedicine   947 non-null    object \n",
            " 11  JunkFood          947 non-null    object \n",
            " 12  Stress            947 non-null    object \n",
            " 13  BPLevel           947 non-null    object \n",
            " 14  Pregancies        947 non-null    float64\n",
            " 15  Pdiabetes         947 non-null    object \n",
            " 16  UriationFreq      947 non-null    object \n",
            " 17  Diabetic          947 non-null    object \n",
            "dtypes: float64(2), int64(2), object(14)\n",
            "memory usage: 140.6+ KB\n"
          ]
        }
      ],
      "source": [
        "df.info()"
      ]
    },
    {
      "cell_type": "markdown",
      "metadata": {
        "id": "WE_6VINYAp0Z"
      },
      "source": [
        "#TRANSFORMASI"
      ]
    },
    {
      "cell_type": "code",
      "execution_count": 44,
      "metadata": {
        "id": "gsAlTznSAokS"
      },
      "outputs": [],
      "source": [
        "# Pisahkan kolom-kolom kategorikal dan numerik\n",
        "object = [col for col in df.columns if df[col].dtype == 'object']\n",
        "numeric = [col for col in df.columns if df[col].dtype in ['int64', 'float64']]\n",
        "\n",
        "# Hapus kolom 'Diabetic' dari daftar kolom kategorikal\n",
        "object.remove('Diabetic')\n",
        "\n",
        "# Pilih kolom kategorikal yang dapat di-transformasi secara ordinal\n",
        "label_col = [col for col in object if set(df[col]).issubset(set(df[col]))]"
      ]
    },
    {
      "cell_type": "code",
      "execution_count": 45,
      "metadata": {
        "colab": {
          "base_uri": "https://localhost:8080/",
          "height": 444
        },
        "id": "imYMO6UIA2iI",
        "outputId": "28b06e82-997a-42b1-fa7d-eafcafaccfbc"
      },
      "outputs": [
        {
          "data": {
            "text/html": [
              "<div>\n",
              "<style scoped>\n",
              "    .dataframe tbody tr th:only-of-type {\n",
              "        vertical-align: middle;\n",
              "    }\n",
              "\n",
              "    .dataframe tbody tr th {\n",
              "        vertical-align: top;\n",
              "    }\n",
              "\n",
              "    .dataframe thead th {\n",
              "        text-align: right;\n",
              "    }\n",
              "</style>\n",
              "<table border=\"1\" class=\"dataframe\">\n",
              "  <thead>\n",
              "    <tr style=\"text-align: right;\">\n",
              "      <th></th>\n",
              "      <th>Age</th>\n",
              "      <th>Gender</th>\n",
              "      <th>Family_Diabetes</th>\n",
              "      <th>highBP</th>\n",
              "      <th>PhysicallyActive</th>\n",
              "      <th>BMI</th>\n",
              "      <th>Smoking</th>\n",
              "      <th>Alcohol</th>\n",
              "      <th>Sleep</th>\n",
              "      <th>SoundSleep</th>\n",
              "      <th>RegularMedicine</th>\n",
              "      <th>JunkFood</th>\n",
              "      <th>Stress</th>\n",
              "      <th>BPLevel</th>\n",
              "      <th>Pregancies</th>\n",
              "      <th>Pdiabetes</th>\n",
              "      <th>UriationFreq</th>\n",
              "      <th>Diabetic</th>\n",
              "    </tr>\n",
              "  </thead>\n",
              "  <tbody>\n",
              "    <tr>\n",
              "      <th>0</th>\n",
              "      <td>1.0</td>\n",
              "      <td>1.0</td>\n",
              "      <td>0.0</td>\n",
              "      <td>1.0</td>\n",
              "      <td>3.0</td>\n",
              "      <td>39.0</td>\n",
              "      <td>0.0</td>\n",
              "      <td>0.0</td>\n",
              "      <td>8</td>\n",
              "      <td>6</td>\n",
              "      <td>0.0</td>\n",
              "      <td>1.0</td>\n",
              "      <td>2.0</td>\n",
              "      <td>0.0</td>\n",
              "      <td>0.0</td>\n",
              "      <td>0.0</td>\n",
              "      <td>0.0</td>\n",
              "      <td>0</td>\n",
              "    </tr>\n",
              "    <tr>\n",
              "      <th>1</th>\n",
              "      <td>1.0</td>\n",
              "      <td>1.0</td>\n",
              "      <td>0.0</td>\n",
              "      <td>1.0</td>\n",
              "      <td>0.0</td>\n",
              "      <td>28.0</td>\n",
              "      <td>0.0</td>\n",
              "      <td>0.0</td>\n",
              "      <td>8</td>\n",
              "      <td>6</td>\n",
              "      <td>1.0</td>\n",
              "      <td>3.0</td>\n",
              "      <td>2.0</td>\n",
              "      <td>2.0</td>\n",
              "      <td>0.0</td>\n",
              "      <td>0.0</td>\n",
              "      <td>0.0</td>\n",
              "      <td>0</td>\n",
              "    </tr>\n",
              "    <tr>\n",
              "      <th>2</th>\n",
              "      <td>0.0</td>\n",
              "      <td>1.0</td>\n",
              "      <td>0.0</td>\n",
              "      <td>0.0</td>\n",
              "      <td>3.0</td>\n",
              "      <td>24.0</td>\n",
              "      <td>0.0</td>\n",
              "      <td>0.0</td>\n",
              "      <td>6</td>\n",
              "      <td>6</td>\n",
              "      <td>0.0</td>\n",
              "      <td>1.0</td>\n",
              "      <td>2.0</td>\n",
              "      <td>2.0</td>\n",
              "      <td>0.0</td>\n",
              "      <td>0.0</td>\n",
              "      <td>0.0</td>\n",
              "      <td>0</td>\n",
              "    </tr>\n",
              "    <tr>\n",
              "      <th>3</th>\n",
              "      <td>1.0</td>\n",
              "      <td>1.0</td>\n",
              "      <td>0.0</td>\n",
              "      <td>0.0</td>\n",
              "      <td>3.0</td>\n",
              "      <td>23.0</td>\n",
              "      <td>0.0</td>\n",
              "      <td>0.0</td>\n",
              "      <td>8</td>\n",
              "      <td>6</td>\n",
              "      <td>0.0</td>\n",
              "      <td>1.0</td>\n",
              "      <td>2.0</td>\n",
              "      <td>2.0</td>\n",
              "      <td>0.0</td>\n",
              "      <td>0.0</td>\n",
              "      <td>0.0</td>\n",
              "      <td>0</td>\n",
              "    </tr>\n",
              "    <tr>\n",
              "      <th>4</th>\n",
              "      <td>0.0</td>\n",
              "      <td>1.0</td>\n",
              "      <td>0.0</td>\n",
              "      <td>0.0</td>\n",
              "      <td>0.0</td>\n",
              "      <td>27.0</td>\n",
              "      <td>0.0</td>\n",
              "      <td>0.0</td>\n",
              "      <td>8</td>\n",
              "      <td>8</td>\n",
              "      <td>0.0</td>\n",
              "      <td>1.0</td>\n",
              "      <td>2.0</td>\n",
              "      <td>2.0</td>\n",
              "      <td>0.0</td>\n",
              "      <td>0.0</td>\n",
              "      <td>0.0</td>\n",
              "      <td>0</td>\n",
              "    </tr>\n",
              "    <tr>\n",
              "      <th>...</th>\n",
              "      <td>...</td>\n",
              "      <td>...</td>\n",
              "      <td>...</td>\n",
              "      <td>...</td>\n",
              "      <td>...</td>\n",
              "      <td>...</td>\n",
              "      <td>...</td>\n",
              "      <td>...</td>\n",
              "      <td>...</td>\n",
              "      <td>...</td>\n",
              "      <td>...</td>\n",
              "      <td>...</td>\n",
              "      <td>...</td>\n",
              "      <td>...</td>\n",
              "      <td>...</td>\n",
              "      <td>...</td>\n",
              "      <td>...</td>\n",
              "      <td>...</td>\n",
              "    </tr>\n",
              "    <tr>\n",
              "      <th>947</th>\n",
              "      <td>3.0</td>\n",
              "      <td>1.0</td>\n",
              "      <td>1.0</td>\n",
              "      <td>0.0</td>\n",
              "      <td>1.0</td>\n",
              "      <td>25.0</td>\n",
              "      <td>0.0</td>\n",
              "      <td>0.0</td>\n",
              "      <td>8</td>\n",
              "      <td>6</td>\n",
              "      <td>0.0</td>\n",
              "      <td>2.0</td>\n",
              "      <td>2.0</td>\n",
              "      <td>2.0</td>\n",
              "      <td>0.0</td>\n",
              "      <td>0.0</td>\n",
              "      <td>0.0</td>\n",
              "      <td>1</td>\n",
              "    </tr>\n",
              "    <tr>\n",
              "      <th>948</th>\n",
              "      <td>2.0</td>\n",
              "      <td>1.0</td>\n",
              "      <td>1.0</td>\n",
              "      <td>1.0</td>\n",
              "      <td>1.0</td>\n",
              "      <td>27.0</td>\n",
              "      <td>0.0</td>\n",
              "      <td>0.0</td>\n",
              "      <td>6</td>\n",
              "      <td>5</td>\n",
              "      <td>1.0</td>\n",
              "      <td>1.0</td>\n",
              "      <td>2.0</td>\n",
              "      <td>0.0</td>\n",
              "      <td>0.0</td>\n",
              "      <td>0.0</td>\n",
              "      <td>1.0</td>\n",
              "      <td>1</td>\n",
              "    </tr>\n",
              "    <tr>\n",
              "      <th>949</th>\n",
              "      <td>2.0</td>\n",
              "      <td>1.0</td>\n",
              "      <td>0.0</td>\n",
              "      <td>1.0</td>\n",
              "      <td>2.0</td>\n",
              "      <td>23.0</td>\n",
              "      <td>0.0</td>\n",
              "      <td>0.0</td>\n",
              "      <td>6</td>\n",
              "      <td>5</td>\n",
              "      <td>1.0</td>\n",
              "      <td>1.0</td>\n",
              "      <td>2.0</td>\n",
              "      <td>0.0</td>\n",
              "      <td>0.0</td>\n",
              "      <td>0.0</td>\n",
              "      <td>0.0</td>\n",
              "      <td>0</td>\n",
              "    </tr>\n",
              "    <tr>\n",
              "      <th>950</th>\n",
              "      <td>2.0</td>\n",
              "      <td>1.0</td>\n",
              "      <td>0.0</td>\n",
              "      <td>1.0</td>\n",
              "      <td>0.0</td>\n",
              "      <td>27.0</td>\n",
              "      <td>0.0</td>\n",
              "      <td>1.0</td>\n",
              "      <td>6</td>\n",
              "      <td>5</td>\n",
              "      <td>1.0</td>\n",
              "      <td>1.0</td>\n",
              "      <td>3.0</td>\n",
              "      <td>0.0</td>\n",
              "      <td>0.0</td>\n",
              "      <td>0.0</td>\n",
              "      <td>0.0</td>\n",
              "      <td>0</td>\n",
              "    </tr>\n",
              "    <tr>\n",
              "      <th>951</th>\n",
              "      <td>2.0</td>\n",
              "      <td>0.0</td>\n",
              "      <td>1.0</td>\n",
              "      <td>1.0</td>\n",
              "      <td>3.0</td>\n",
              "      <td>30.0</td>\n",
              "      <td>0.0</td>\n",
              "      <td>0.0</td>\n",
              "      <td>7</td>\n",
              "      <td>4</td>\n",
              "      <td>1.0</td>\n",
              "      <td>1.0</td>\n",
              "      <td>2.0</td>\n",
              "      <td>0.0</td>\n",
              "      <td>2.0</td>\n",
              "      <td>0.0</td>\n",
              "      <td>1.0</td>\n",
              "      <td>1</td>\n",
              "    </tr>\n",
              "  </tbody>\n",
              "</table>\n",
              "<p>947 rows × 18 columns</p>\n",
              "</div>"
            ],
            "text/plain": [
              "     Age  Gender  Family_Diabetes  highBP  PhysicallyActive   BMI  Smoking  \\\n",
              "0    1.0     1.0              0.0     1.0               3.0  39.0      0.0   \n",
              "1    1.0     1.0              0.0     1.0               0.0  28.0      0.0   \n",
              "2    0.0     1.0              0.0     0.0               3.0  24.0      0.0   \n",
              "3    1.0     1.0              0.0     0.0               3.0  23.0      0.0   \n",
              "4    0.0     1.0              0.0     0.0               0.0  27.0      0.0   \n",
              "..   ...     ...              ...     ...               ...   ...      ...   \n",
              "947  3.0     1.0              1.0     0.0               1.0  25.0      0.0   \n",
              "948  2.0     1.0              1.0     1.0               1.0  27.0      0.0   \n",
              "949  2.0     1.0              0.0     1.0               2.0  23.0      0.0   \n",
              "950  2.0     1.0              0.0     1.0               0.0  27.0      0.0   \n",
              "951  2.0     0.0              1.0     1.0               3.0  30.0      0.0   \n",
              "\n",
              "     Alcohol  Sleep  SoundSleep  RegularMedicine  JunkFood  Stress  BPLevel  \\\n",
              "0        0.0      8           6              0.0       1.0     2.0      0.0   \n",
              "1        0.0      8           6              1.0       3.0     2.0      2.0   \n",
              "2        0.0      6           6              0.0       1.0     2.0      2.0   \n",
              "3        0.0      8           6              0.0       1.0     2.0      2.0   \n",
              "4        0.0      8           8              0.0       1.0     2.0      2.0   \n",
              "..       ...    ...         ...              ...       ...     ...      ...   \n",
              "947      0.0      8           6              0.0       2.0     2.0      2.0   \n",
              "948      0.0      6           5              1.0       1.0     2.0      0.0   \n",
              "949      0.0      6           5              1.0       1.0     2.0      0.0   \n",
              "950      1.0      6           5              1.0       1.0     3.0      0.0   \n",
              "951      0.0      7           4              1.0       1.0     2.0      0.0   \n",
              "\n",
              "     Pregancies  Pdiabetes  UriationFreq  Diabetic  \n",
              "0           0.0        0.0           0.0         0  \n",
              "1           0.0        0.0           0.0         0  \n",
              "2           0.0        0.0           0.0         0  \n",
              "3           0.0        0.0           0.0         0  \n",
              "4           0.0        0.0           0.0         0  \n",
              "..          ...        ...           ...       ...  \n",
              "947         0.0        0.0           0.0         1  \n",
              "948         0.0        0.0           1.0         1  \n",
              "949         0.0        0.0           0.0         0  \n",
              "950         0.0        0.0           0.0         0  \n",
              "951         2.0        0.0           1.0         1  \n",
              "\n",
              "[947 rows x 18 columns]"
            ]
          },
          "execution_count": 45,
          "metadata": {},
          "output_type": "execute_result"
        }
      ],
      "source": [
        "from sklearn.preprocessing import OrdinalEncoder\n",
        "\n",
        "# Inisialisasi OrdinalEncoder\n",
        "ordinal_encoder = OrdinalEncoder()\n",
        "\n",
        "# Lakukan transformasi ordinal pada kolom-kolom kategorikal yang telah Anda tentukan\n",
        "df_transform = df.copy()\n",
        "df_transform[label_col] = ordinal_encoder.fit_transform(df[label_col])\n",
        "\n",
        "dic_to_replace = {\"Diabetic\": {\"no\": 0,\n",
        "                          \"yes\": 1,}\n",
        "                         }\n",
        "df_transform.replace(dic_to_replace, inplace=True)\n",
        "\n",
        "# Tampilkan dataframe setelah transformasi\n",
        "df_transform"
      ]
    },
    {
      "cell_type": "markdown",
      "metadata": {
        "id": "eHgbkmUmt6E6"
      },
      "source": [
        "#SKENARIO 1"
      ]
    },
    {
      "cell_type": "code",
      "execution_count": 46,
      "metadata": {
        "colab": {
          "base_uri": "https://localhost:8080/",
          "height": 440
        },
        "id": "0Oj-DO10I9DI",
        "outputId": "8ab1e6b5-05fc-4dc1-c920-b8abc814a8c3"
      },
      "outputs": [
        {
          "data": {
            "image/png": "[encoded data removed]",
            "text/plain": [
              "<Figure size 600x400 with 1 Axes>"
            ]
          },
          "metadata": {},
          "output_type": "display_data"
        },
        {
          "name": "stdout",
          "output_type": "stream",
          "text": [
            "Jumlah data latih: 852\n",
            "Jumlah data uji: 95\n"
          ]
        }
      ],
      "source": [
        "from sklearn.model_selection import train_test_split\n",
        "import matplotlib.pyplot as plt\n",
        "\n",
        "# Pisahkan fitur dan target dari dataframe yang sudah dinormalisasi\n",
        "X = df_transform.drop('Diabetic', axis=1)\n",
        "y = df_transform['Diabetic']\n",
        "\n",
        "# Melakukan train-test split setelah normalisasi\n",
        "X_train, X_test, y_train, y_test = train_test_split(X, y, test_size=0.1, random_state=42)\n",
        "\n",
        "# Menghitung persentase dan jumlah target pada subset pelatihan\n",
        "train_target_value_counts = y_train.value_counts(normalize=True)\n",
        "train_target_counts = y_train.value_counts()\n",
        "\n",
        "# Membuat plot untuk presentase dan jumlah target pada subset pelatihan\n",
        "plt.figure(figsize=(6, 4))\n",
        "ax = train_target_value_counts.plot(kind='bar', color=['blue', 'orange'])\n",
        "plt.title('Presentase Target pada Subset Pelatihan')\n",
        "plt.xlabel('Target')\n",
        "plt.ylabel('Persentase')\n",
        "\n",
        "# Menambahkan label untuk setiap bar\n",
        "for i, v in enumerate(train_target_value_counts):\n",
        "    ax.text(i, v + 0.01, f'{v:.2%}\\n({train_target_counts[i]})', ha='center', color='black')\n",
        "\n",
        "plt.ylim(0, 1)  # Set batas y-axis antara 0 dan 1 untuk representasi persentase\n",
        "plt.show()\n",
        "\n",
        "# Tampilkan jumlah data latih dan data uji setelah di-split\n",
        "print(\"Jumlah data latih:\", len(X_train))\n",
        "print(\"Jumlah data uji:\", len(X_test))"
      ]
    },
    {
      "cell_type": "code",
      "execution_count": 47,
      "metadata": {
        "colab": {
          "base_uri": "https://localhost:8080/",
          "height": 497
        },
        "id": "LcwUrKcWrYs7",
        "outputId": "73ea4f6d-82d1-4791-d4a7-2366cd6731ff"
      },
      "outputs": [
        {
          "name": "stdout",
          "output_type": "stream",
          "text": [
            "Jumlah sampel untuk setiap kelas target setelah oversampling (Data Pelatihan):\n",
            "0    623\n",
            "1    623\n",
            "Name: Diabetic, dtype: int64\n"
          ]
        },
        {
          "data": {
            "image/png": "[encoded data removed]",
            "text/plain": [
              "<Figure size 600x400 with 1 Axes>"
            ]
          },
          "metadata": {},
          "output_type": "display_data"
        }
      ],
      "source": [
        "from imblearn.over_sampling import SMOTE\n",
        "\n",
        "# Inisialisasi SMOTE\n",
        "smote = SMOTE(random_state=42)\n",
        "\n",
        "# Terapkan SMOTE pada data pelatihan\n",
        "X_train_resampled, y_train_resampled = smote.fit_resample(X_train, y_train)\n",
        "\n",
        "# Menampilkan jumlah sampel untuk setiap kelas target setelah oversampling pada data pelatihan\n",
        "print(\"Jumlah sampel untuk setiap kelas target setelah oversampling (Data Pelatihan):\")\n",
        "print(y_train_resampled.value_counts())\n",
        "\n",
        "# Menampilkan persentase dan jumlah target pada subset pelatihan setelah oversampling\n",
        "train_resampled_target_value_counts = y_train_resampled.value_counts(normalize=True)\n",
        "train_resampled_target_counts = y_train_resampled.value_counts()\n",
        "\n",
        "# Membuat plot untuk presentase dan jumlah target pada subset pelatihan setelah oversampling\n",
        "plt.figure(figsize=(6, 4))\n",
        "ax = train_resampled_target_value_counts.plot(kind='bar', color=['blue', 'orange'])\n",
        "plt.title('Presentase Target pada Subset Pelatihan setelah Oversampling (SMOTE)')\n",
        "plt.xlabel('Target')\n",
        "plt.ylabel('Persentase')\n",
        "\n",
        "# Menambahkan label untuk setiap bar\n",
        "for i, v in enumerate(train_resampled_target_value_counts):\n",
        "    ax.text(i, v + 0.01, f'{v:.2%}\\n({train_resampled_target_counts[i]})', ha='center', color='black')\n",
        "\n",
        "# Menetapkan posisi dan label sumbu x\n",
        "plt.xticks(rotation=0, ticks=range(len(train_resampled_target_value_counts)), labels=train_resampled_target_value_counts.index)\n",
        "\n",
        "plt.ylim(0, 1)  # Set batas y-axis antara 0 dan 1 untuk representasi persentase\n",
        "plt.grid(axis='y', linestyle='--', alpha=0.5)\n",
        "plt.show()"
      ]
    },
    {
      "cell_type": "code",
      "execution_count": 48,
      "metadata": {
        "id": "vsV3hKZGrlS2"
      },
      "outputs": [],
      "source": [
        "from sklearn.preprocessing import MinMaxScaler\n",
        "\n",
        "# Inisialisasi MinMaxScaler\n",
        "scaler = MinMaxScaler()\n",
        "\n",
        "# Lakukan normalisasi pada data pelatihan yang telah diresample\n",
        "X_train_resampled_normalized = scaler.fit_transform(X_train_resampled)\n",
        "\n",
        "# Lakukan normalisasi pada data uji\n",
        "X_test_normalized = scaler.transform(X_test)"
      ]
    },
    {
      "cell_type": "code",
      "execution_count": 49,
      "metadata": {
        "colab": {
          "base_uri": "https://localhost:8080/"
        },
        "id": "YecYgC6AlBr7",
        "outputId": "dfb68c9c-70d4-4b17-c8e4-17fcc2521b16"
      },
      "outputs": [
        {
          "name": "stdout",
          "output_type": "stream",
          "text": [
            "Data pelatihan sebelum normalisasi:\n",
            "     Age  Gender  Family_Diabetes  highBP  PhysicallyActive   BMI  Smoking  \\\n",
            "610  3.0     1.0              1.0     0.0               3.0  20.0      0.0   \n",
            "577  3.0     0.0              0.0     0.0               3.0  26.0      0.0   \n",
            "599  1.0     0.0              0.0     1.0               0.0  31.0      0.0   \n",
            "949  2.0     1.0              0.0     1.0               2.0  23.0      0.0   \n",
            "307  3.0     1.0              1.0     1.0               3.0  26.0      1.0   \n",
            "\n",
            "     Alcohol  Sleep  SoundSleep  RegularMedicine  JunkFood  Stress  BPLevel  \\\n",
            "610      0.0      7           6              0.0       1.0     1.0      2.0   \n",
            "577      0.0      8           6              0.0       1.0     2.0      1.0   \n",
            "599      0.0      7           4              1.0       1.0     3.0      0.0   \n",
            "949      0.0      6           5              1.0       1.0     2.0      0.0   \n",
            "307      1.0      5           4              1.0       2.0     1.0      0.0   \n",
            "\n",
            "     Pregancies  Pdiabetes  UriationFreq  \n",
            "610         0.0        0.0           0.0  \n",
            "577         0.0        0.0           0.0  \n",
            "599         0.0        0.0           1.0  \n",
            "949         0.0        0.0           0.0  \n",
            "307         0.0        0.0           0.0  \n",
            "\n",
            "Data pelatihan setelah normalisasi:\n",
            "        Age  Gender  Family_Diabetes  highBP  PhysicallyActive       BMI  \\\n",
            "0  1.000000     1.0              1.0     0.0          1.000000  0.166667   \n",
            "1  1.000000     0.0              0.0     0.0          1.000000  0.366667   \n",
            "2  0.333333     0.0              0.0     1.0          0.000000  0.533333   \n",
            "3  0.666667     1.0              0.0     1.0          0.666667  0.266667   \n",
            "4  1.000000     1.0              1.0     1.0          1.000000  0.366667   \n",
            "\n",
            "   Smoking  Alcohol     Sleep  SoundSleep  RegularMedicine  JunkFood  \\\n",
            "0      0.0      0.0  0.428571    0.545455              0.0  0.333333   \n",
            "1      0.0      0.0  0.571429    0.545455              0.0  0.333333   \n",
            "2      0.0      0.0  0.428571    0.363636              1.0  0.333333   \n",
            "3      0.0      0.0  0.285714    0.454545              1.0  0.333333   \n",
            "4      1.0      1.0  0.142857    0.363636              1.0  0.666667   \n",
            "\n",
            "     Stress  BPLevel  Pregancies  Pdiabetes  UriationFreq  \n",
            "0  0.333333      1.0         0.0        0.0           0.0  \n",
            "1  0.666667      0.5         0.0        0.0           0.0  \n",
            "2  1.000000      0.0         0.0        0.0           1.0  \n",
            "3  0.666667      0.0         0.0        0.0           0.0  \n",
            "4  0.333333      0.0         0.0        0.0           0.0  \n",
            "Data pengujian sebelum normalisasi:\n",
            "     Age  Gender  Family_Diabetes  highBP  PhysicallyActive   BMI  Smoking  \\\n",
            "594  3.0     1.0              1.0     0.0               1.0  22.0      0.0   \n",
            "937  0.0     0.0              1.0     1.0               1.0  33.0      0.0   \n",
            "144  0.0     1.0              1.0     0.0               1.0  34.0      0.0   \n",
            "86   3.0     0.0              0.0     0.0               0.0  19.0      0.0   \n",
            "39   0.0     1.0              0.0     0.0               1.0  21.0      0.0   \n",
            "\n",
            "     Alcohol  Sleep  SoundSleep  RegularMedicine  JunkFood  Stress  BPLevel  \\\n",
            "594      0.0      7           5              0.0       2.0     3.0      2.0   \n",
            "937      0.0      7           2              1.0       1.0     2.0      0.0   \n",
            "144      0.0      7           5              0.0       2.0     2.0      2.0   \n",
            "86       0.0      7           3              1.0       1.0     2.0      2.0   \n",
            "39       0.0      6           6              1.0       1.0     2.0      2.0   \n",
            "\n",
            "     Pregancies  Pdiabetes  UriationFreq  \n",
            "594         0.0        0.0           0.0  \n",
            "937         0.0        0.0           1.0  \n",
            "144         0.0        0.0           1.0  \n",
            "86          1.0        0.0           0.0  \n",
            "39          0.0        0.0           0.0  \n",
            "\n",
            "Data pengujian setelah normalisasi:\n",
            "   Age  Gender  Family_Diabetes  highBP  PhysicallyActive       BMI  Smoking  \\\n",
            "0  1.0     1.0              1.0     0.0          0.333333  0.233333      0.0   \n",
            "1  0.0     0.0              1.0     1.0          0.333333  0.600000      0.0   \n",
            "2  0.0     1.0              1.0     0.0          0.333333  0.633333      0.0   \n",
            "3  1.0     0.0              0.0     0.0          0.000000  0.133333      0.0   \n",
            "4  0.0     1.0              0.0     0.0          0.333333  0.200000      0.0   \n",
            "\n",
            "   Alcohol     Sleep  SoundSleep  RegularMedicine  JunkFood    Stress  \\\n",
            "0      0.0  0.428571    0.454545              0.0  0.666667  1.000000   \n",
            "1      0.0  0.428571    0.181818              1.0  0.333333  0.666667   \n",
            "2      0.0  0.428571    0.454545              0.0  0.666667  0.666667   \n",
            "3      0.0  0.428571    0.272727              1.0  0.333333  0.666667   \n",
            "4      0.0  0.285714    0.545455              1.0  0.333333  0.666667   \n",
            "\n",
            "   BPLevel  Pregancies  Pdiabetes  UriationFreq  \n",
            "0      1.0        0.00        0.0           0.0  \n",
            "1      0.0        0.00        0.0           1.0  \n",
            "2      1.0        0.00        0.0           1.0  \n",
            "3      1.0        0.25        0.0           0.0  \n",
            "4      1.0        0.00        0.0           0.0  \n"
          ]
        }
      ],
      "source": [
        "import pandas as pd\n",
        "\n",
        "# Buat DataFrame untuk data pelatihan sebelum normalisasi\n",
        "df_train_before_normalized = pd.DataFrame(X_train, columns=X_train.columns)\n",
        "\n",
        "# Tampilkan DataFrame sebelum normalisasi\n",
        "print(\"Data pelatihan sebelum normalisasi:\")\n",
        "print(df_train_before_normalized.head())  # Menampilkan beberapa baris pertama dari DataFrame\n",
        "\n",
        "# Buat DataFrame untuk data pelatihan setelah normalisasi\n",
        "df_train_after_normalized = pd.DataFrame(X_train_resampled_normalized, columns=X_train.columns)\n",
        "\n",
        "# Tampilkan DataFrame setelah normalisasi\n",
        "print(\"\\nData pelatihan setelah normalisasi:\")\n",
        "print(df_train_after_normalized.head())  # Menampilkan beberapa baris pertama dari DataFrame\n",
        "\n",
        "# Buat DataFrame untuk data pelatihan sebelum normalisasi\n",
        "df_test_before_normalized = pd.DataFrame(X_test, columns=X_test.columns)\n",
        "\n",
        "# Tampilkan DataFrame Pengujian sebelum normalisasi\n",
        "print(\"Data pengujian sebelum normalisasi:\")\n",
        "print(df_test_before_normalized.head())  # Menampilkan beberapa baris pertama dari DataFrame\n",
        "\n",
        "# Buat DataFrame untuk data Pengujian setelah normalisasi\n",
        "df_test_after_normalized = pd.DataFrame(X_test_normalized, columns=X_test.columns)\n",
        "\n",
        "# Tampilkan DataFrame Pengujian setelah normalisasi\n",
        "print(\"\\nData pengujian setelah normalisasi:\")\n",
        "print(df_test_after_normalized.head())  # Menampilkan beberapa baris pertama dari DataFrame"
      ]
    },
    {
      "cell_type": "code",
      "execution_count": 50,
      "metadata": {
        "colab": {
          "base_uri": "https://localhost:8080/",
          "height": 642
        },
        "id": "vSTqzs5qtJvK",
        "outputId": "c20aca6f-017c-44d3-a50e-4f0c6bfc8a04"
      },
      "outputs": [
        {
          "data": {
            "image/png": "[encoded data removed]",
            "text/plain": [
              "<Figure size 1000x600 with 1 Axes>"
            ]
          },
          "metadata": {},
          "output_type": "display_data"
        },
        {
          "name": "stdout",
          "output_type": "stream",
          "text": [
            "Fitur Terpilih:\n",
            "['RegularMedicine', 'Age', 'BMI', 'SoundSleep', 'Family_Diabetes', 'Stress', 'PhysicallyActive', 'BPLevel', 'highBP', 'Sleep']\n"
          ]
        }
      ],
      "source": [
        "from sklearn.ensemble import RandomForestClassifier\n",
        "import matplotlib.pyplot as plt\n",
        "\n",
        "# Inisialisasi model Random Forest\n",
        "rf_classifier = RandomForestClassifier(random_state=42)\n",
        "\n",
        "# Latih model pada data pelatihan yang telah diresample dan dinormalisasi\n",
        "rf_classifier.fit(X_train_resampled_normalized, y_train_resampled)\n",
        "\n",
        "# Mendapatkan nilai feature importance\n",
        "feature_importances = rf_classifier.feature_importances_\n",
        "\n",
        "# Membuat dataframe untuk menyimpan feature importance beserta namanya\n",
        "feature_importance_df = pd.DataFrame({'Feature': X_train.columns, 'Importance': feature_importances})\n",
        "\n",
        "# Mengonversi nilai penting ke dalam persentase\n",
        "feature_importance_df['Importance (%)'] = (feature_importance_df['Importance'] * 100).round(2)\n",
        "\n",
        "# Mengurutkan fitur berdasarkan feature importance dari yang tertinggi\n",
        "feature_importance_df = feature_importance_df.sort_values(by='Importance', ascending=False)\n",
        "\n",
        "# Menampilkan fitur yang dipilih (misalnya, 10 fitur teratas)\n",
        "selected_features = feature_importance_df.head(10)['Feature'].tolist()\n",
        "\n",
        "# Normalisasi data berdasarkan fitur yang dipilih\n",
        "X_train_selected = X_train_resampled[selected_features]\n",
        "X_test_selected = X_test[selected_features]\n",
        "\n",
        "#Menampilkan grafik seleksi fitur\n",
        "plt.figure(figsize=(10, 6))\n",
        "bars = plt.bar(feature_importance_df['Feature'], feature_importance_df['Importance (%)'], color='skyblue')\n",
        "plt.xlabel('Fitur')\n",
        "#plt.ylabel('Importance (%)')\n",
        "plt.title('Fitur Importance dari Random Forest Classifier')\n",
        "plt.xticks(rotation=90)\n",
        "plt.tight_layout()\n",
        "\n",
        "# Menambahkan label presentase pada setiap batang\n",
        "for bar in bars:\n",
        "    height = bar.get_height()\n",
        "    plt.text(bar.get_x() + bar.get_width()/2.0, height, f'{height:.2f}%', ha='center', va='bottom')\n",
        "\n",
        "plt.show()\n",
        "print(\"Fitur Terpilih:\")\n",
        "print(selected_features)"
      ]
    },
    {
      "cell_type": "code",
      "execution_count": 51,
      "metadata": {
        "colab": {
          "base_uri": "https://localhost:8080/"
        },
        "id": "62lGgmdWQgbh",
        "outputId": "2cbf9d13-7fcc-4c15-a9fe-aeefe5ced9b1"
      },
      "outputs": [
        {
          "name": "stdout",
          "output_type": "stream",
          "text": [
            "Hasil Evaluasi Model:\n",
            "Akurasi: 0.968421052631579\n",
            "Presisi: 1.0\n",
            "Recall: 0.9166666666666666\n",
            "F1-score: 0.9565217391304348\n"
          ]
        }
      ],
      "source": [
        "#SPLIT-SMOTE-NORMALISASI-SF-MODEL\n",
        "from sklearn.metrics import accuracy_score, precision_score, recall_score, f1_score\n",
        "\n",
        "# Latih model pada data pelatihan yang telah di-resample dan dinormalisasi\n",
        "rf_classifier.fit(X_train_selected, y_train_resampled)\n",
        "\n",
        "# Prediksi label dengan data uji\n",
        "y_pred = rf_classifier.predict(X_test_selected)\n",
        "\n",
        "# Hitung metrik evaluasi\n",
        "accuracy = accuracy_score(y_test, y_pred)\n",
        "precision = precision_score(y_test, y_pred)\n",
        "recall = recall_score(y_test, y_pred)\n",
        "f1 = f1_score(y_test, y_pred)\n",
        "\n",
        "# Tampilkan hasil evaluasi\n",
        "print(\"Hasil Evaluasi Model:\")\n",
        "print(\"Akurasi:\", accuracy)\n",
        "print(\"Presisi:\", precision)\n",
        "print(\"Recall:\", recall)\n",
        "print(\"F1-score:\", f1)"
      ]
    },
    {
      "cell_type": "code",
      "execution_count": 52,
      "metadata": {
        "colab": {
          "base_uri": "https://localhost:8080/",
          "height": 564
        },
        "id": "r5GsRkyWQ3P-",
        "outputId": "8f064364-0442-421d-a346-3f8e1dac261f"
      },
      "outputs": [
        {
          "data": {
            "image/png": "[encoded data removed]",
            "text/plain": [
              "<Figure size 800x600 with 2 Axes>"
            ]
          },
          "metadata": {},
          "output_type": "display_data"
        }
      ],
      "source": [
        "from sklearn.metrics import confusion_matrix\n",
        "\n",
        "# Membuat confusion matrix\n",
        "conf_matrix = confusion_matrix(y_test, y_pred)\n",
        "\n",
        "# Menampilkan confusion matrix sebagai gambar menggunakan heatmap\n",
        "plt.figure(figsize=(8, 6))\n",
        "sns.heatmap(conf_matrix, annot=True, fmt='d', cmap='Blues',\n",
        "            xticklabels=['Non-Diabetic', 'Diabetic'],\n",
        "            yticklabels=['Non-Diabetic', 'Diabetic'])\n",
        "plt.title('Confusion Matrix')\n",
        "plt.xlabel('Predicted Label')\n",
        "plt.ylabel('True Label')\n",
        "plt.show()"
      ]
    },
    {
      "cell_type": "code",
      "execution_count": 53,
      "metadata": {
        "colab": {
          "base_uri": "https://localhost:8080/"
        },
        "id": "JfKtknGDV4IU",
        "outputId": "6f29732b-b7eb-4db1-acb6-8afe239a8afa"
      },
      "outputs": [
        {
          "name": "stdout",
          "output_type": "stream",
          "text": [
            "Parameter terbaik: {'n_estimators': 50, 'max_depth': 10}\n",
            "Akurasi terbaik: 0.968421052631579\n",
            "Presisi: 1.0\n",
            "Recall: 0.9166666666666666\n",
            "F1-score: 0.9565217391304348\n"
          ]
        }
      ],
      "source": [
        "#DENGAN PARAMETER\n",
        "from sklearn.ensemble import RandomForestClassifier\n",
        "from sklearn.metrics import accuracy_score, precision_score, recall_score, f1_score\n",
        "import itertools\n",
        "\n",
        "# Tentukan rentang nilai parameter yang ingin Anda coba\n",
        "n_estimators_values = [50, 100, 200]\n",
        "max_depth_values = [10, 15, 20]\n",
        "\n",
        "best_accuracy_1 = 0\n",
        "best_params = {}\n",
        "\n",
        "# Iterasi melalui semua kombinasi nilai parameter\n",
        "for n_estimators, max_depth in itertools.product(n_estimators_values, max_depth_values):\n",
        "    # Inisialisasi model dengan parameter yang dipilih\n",
        "    RF_model = RandomForestClassifier(n_estimators=n_estimators, max_depth=max_depth, random_state=42)\n",
        "\n",
        "    # Latih model pada data pelatihan yang dipilih\n",
        "    RF_model.fit(X_train_selected, y_train_resampled)\n",
        "\n",
        "    # Lakukan prediksi pada data uji\n",
        "    y_pred = RF_model.predict(X_test_selected)\n",
        "\n",
        "    # Hitung metrik evaluasi\n",
        "    accuracy1 = accuracy_score(y_test, y_pred)\n",
        "    precision1 = precision_score(y_test, y_pred)\n",
        "    recall1 = recall_score(y_test, y_pred)\n",
        "    f1_1 = f1_score(y_test, y_pred)\n",
        "\n",
        "    # Simpan parameter dan hasil evaluasi jika kinerja terbaik\n",
        "    if accuracy1 > best_accuracy_1:\n",
        "        best_accuracy_1 = accuracy1\n",
        "        best_params = {'n_estimators': n_estimators, 'max_depth': max_depth}\n",
        "\n",
        "# Tampilkan parameter terbaik dan hasil evaluasi\n",
        "print(\"Parameter terbaik:\", best_params)\n",
        "print(\"Akurasi terbaik:\", best_accuracy_1)\n",
        "print(\"Presisi:\", precision1)\n",
        "print(\"Recall:\", recall1)\n",
        "print(\"F1-score:\", f1_1)"
      ]
    },
    {
      "cell_type": "code",
      "execution_count": 54,
      "metadata": {
        "id": "2AffT3uPh3Fm"
      },
      "outputs": [],
      "source": [
        "import pickle"
      ]
    },
    {
      "cell_type": "code",
      "execution_count": 56,
      "metadata": {},
      "outputs": [],
      "source": [
        "filename = 'diabetes_dataset.sav'\n",
        "pickle.dump(RF_model, open(filename, 'wb'))"
      ]
    },
    {
      "cell_type": "code",
      "execution_count": null,
      "metadata": {},
      "outputs": [],
      "source": []
    }
  ],
  "metadata": {
    "colab": {
      "provenance": []
    },
    "kernelspec": {
      "display_name": "Python 3",
      "name": "python3"
    },
    "language_info": {
      "codemirror_mode": {
        "name": "ipython",
        "version": 3
      },
      "file_extension": ".py",
      "mimetype": "text/x-python",
      "name": "python",
      "nbconvert_exporter": "python",
      "pygments_lexer": "ipython3",
      "version": "3.11.2"
    }
  },
  "nbformat": 4,
  "nbformat_minor": 0
}
